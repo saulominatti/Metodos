{
 "cells": [
  {
   "cell_type": "markdown",
   "metadata": {},
   "source": [
    "# Método de Muller"
   ]
  },
  {
   "cell_type": "markdown",
   "metadata": {},
   "source": [
    "## Introdução"
   ]
  },
  {
   "cell_type": "markdown",
   "metadata": {},
   "source": [
    "O Método de Muller tem como motivação inicial encontrar raízes complexas \n",
    "de polinômios "
   ]
  },
  {
   "cell_type": "markdown",
   "metadata": {},
   "source": [
    "O método é similar ao da secante. No entanto, o método da secante utiliza duas aproximações iniciais, e faz a próxima aproximação ser a intersecção da reta gerada pelos dois pontos com o eixo x. "
   ]
  },
  {
   "cell_type": "markdown",
   "metadata": {},
   "source": [
    "De fato, se $f$ é a função em que se quer aproximar a raiz pelo método da secante utilizando as aproximações iniciais $p_0, p_1$ então, $p_2$ é dado por:\n",
    "\n",
    "$$p_2 \\coloneqq (\\textnormal{ eixo x })\\cap [(p_0, f(p_0)), (p_1, f(p_1))]$$\n",
    "\n",
    "Em que $[(p_0, f(p_0)), (p_1, f(p_1))]$ é a única reta que passa pelos dois pontos."
   ]
  },
  {
   "cell_type": "markdown",
   "metadata": {},
   "source": [
    "Já, no método de Muller, utilizam-se três aproximações iniciais, e considera-se a intersecçaõ do eixo x com a parábola que liga os três pontos."
   ]
  },
  {
   "cell_type": "markdown",
   "metadata": {},
   "source": [
    "Se $f$ é a função em que se quer aproximar a raiz pelo método de Muller utilizando as aproximações iniciais $p_0, p_1, p_2$ então, $p_3$ é dado por:\n",
    "\n",
    "$$p_3 \\coloneqq (\\textnormal{ eixo x })\\cap [(p_0, f(p_0)), (p_1, f(p_1)), (p_2, f(p_2))].  $$\n",
    "\n",
    "Em que $[(p_0, f(p_0)), (p_1, f(p_1)), (p_2, f(p_2))]$ é a única parábola que passa pelos três pontos, via interpolação polinomial."
   ]
  },
  {
   "cell_type": "markdown",
   "metadata": {},
   "source": [
    "## Teoria"
   ]
  },
  {
   "cell_type": "markdown",
   "metadata": {},
   "source": [
    "$\\textbf{Teorema}(\\textnormal{Método de Muller})\\colon$\n",
    "\n",
    "\n",
    "Seja $f$ uma função real contínua de variável real que se anule em algum ponto, e $\\varepsilon > 0$ arbitrário. Então, o Método de Muller, em um número finito de iterações, encontra uma solução aproximada $p'$ de $p$ (em que $f(p)=0$) tal que $$|p'-p|<\\varepsilon.$$"
   ]
  },
  {
   "cell_type": "markdown",
   "metadata": {},
   "source": [
    "$\\textbf{Demonstração}\\colon$\n",
    "\n",
    "Sejam $p_0, p_1, p_2$ os palpites iniciais para $p$, e considere o seguinte polinômio quadrático:\n",
    "\n",
    "$$P(x) \\coloneqq a(x-p_2)^2 + b(x-p_2) + c$$\n",
    "\n",
    "que liga $(p_0, f(p_0))$, $(p_1, f(p_1))$ e $(p_2, f(p_2))$."
   ]
  },
  {
   "cell_type": "markdown",
   "metadata": {},
   "source": [
    "As constantes $a, b$ e $c$ são determinadas ao resolver o seguinte sistema:\n",
    "\n",
    "$$f(p_0) = a(p_0-p_2)^2 + b(p_0 - p_2)+c;$$\n",
    "\n",
    "$$f(p_1) = a(p_1-p_2)^2 + b(p_1 - p_2)+c;$$\n",
    "\n",
    "$$f(p_2) = a(p_2-p_2)^2 + b(p_2-p_2) +c.$$"
   ]
  },
  {
   "cell_type": "markdown",
   "metadata": {},
   "source": [
    "Para determinar $p_3$ (a primeira aproximação), aplicamos a fórmula quadrática à equação $P(p_3) = 0$. No entanto por causa dos erros de arredondamento causados pela subtração de números muito próximos, aplica-se a fórmula quadrática de maneira alternativa."
   ]
  },
  {
   "cell_type": "markdown",
   "metadata": {},
   "source": [
    "Para que se tenham menos erros de arredondamento, calculamos uma das soluções da seguinte maneira (multiplicando pelo conjugado do numerador):\n",
    "\n",
    "$$p_3 - p_2 = \\dfrac{-b + \\sqrt{b^2 - 4ac}}{2a}\\left(\\dfrac{-b-\\sqrt{b^2 - 4ac}}{-b-\\sqrt{b^2 - 4ac}}\\right) = \\dfrac{-2c}{b + \\sqrt{b^2 - 4ac}} \\implies p_3 = p_2 + \\dfrac{-2c}{b + \\sqrt{b^2 - 4ac}}.$$"
   ]
  },
  {
   "cell_type": "markdown",
   "metadata": {},
   "source": [
    "Similarmente, outra possível solução é dada por:\n",
    "$$p_3 = p_2 + \\dfrac{-2c}{b - \\sqrt{b^2 - 4ac}}.$$"
   ]
  },
  {
   "cell_type": "markdown",
   "metadata": {},
   "source": [
    "No método de Muller, a solução escolhida dentre as duas é aquela em que o sinal da raiz quadrada coincide com o sinal de $b$. Assim sendo, o denominador terá o maior módulo possível, e a escolha de $p_3$ será o zero de $P$ mais próximo de $p_2$.\n",
    "\n",
    "Após $p_3$ ter sido determinado, reinicia-se o procedimento, utilizando $p_1, p_2$ e $p_3$ nos lugares de $p_0, p_1$ e $p_2$ respectivamente, para obter a próxima aproximação $p_4$, continuando até obter uma aproximação satisfatória."
   ]
  },
  {
   "cell_type": "markdown",
   "metadata": {},
   "source": [
    "Como o método envolve a expressão $\\sqrt{b^2 - 4ac}$, ele pode eventualmente fornecer raízes complexas aproximadas quando o radiciando for negativo."
   ]
  },
  {
   "cell_type": "markdown",
   "metadata": {},
   "source": [
    "Nesse caso, como $p_3$ é um zero de $P$, e $P$ é um polinômio que aproxima a função $f$ (pois consiste de cada vez mais pontos pertencentes ao gráfico de $f$), a medida que o procedimento é repetido, pela Interpolação Polinomial, esse polinômio, no limite, se aproxima de $f$ o quanto você queira, como $f$ se anula em algum ponto, em algum número finito $N$ de iterações é possível obter $p_{N+2}$ tal que\n",
    "$$|p_{N+2} - p| < \\varepsilon. \\qquad \\square$$                         "
   ]
  },
  {
   "cell_type": "markdown",
   "metadata": {},
   "source": [
    "## Algoritmo"
   ]
  },
  {
   "cell_type": "markdown",
   "metadata": {},
   "source": [
    "Vamos determinar uma solução de $f(x)=0$ dadas três aproximações $p_0, p_1, p_2$."
   ]
  },
  {
   "cell_type": "markdown",
   "metadata": {},
   "source": [
    "INPUT: $p_0, p_1, p_2$, uma tolerância $tol$ e o número máximo de iterações $N$.\n",
    "\n",
    "OUTPUT: solução aproximada para $p$ ou mensagem de erro."
   ]
  },
  {
   "cell_type": "markdown",
   "metadata": {},
   "source": [
    "STEP 1:\n",
    "$$h_1 \\coloneqq p_1 - p_0$$\n",
    "$$h_2 \\coloneqq p_2 - p_1$$\n",
    "$$a_1 \\coloneqq \\dfrac{(f(p_1)-f(p_0))}{h_1}$$\n",
    "$$a_2 \\coloneqq \\dfrac{(f(p_2)-f(p_1))}{h_2}$$\n",
    "$$d = (a_2 - a_1)(h_2 + h_1)$$\n",
    "$$i=3$$"
   ]
  },
  {
   "cell_type": "markdown",
   "metadata": {},
   "source": [
    "STEP 2:\n",
    "WHILE $i\\leq N$ do STEPS 3-7:"
   ]
  },
  {
   "cell_type": "markdown",
   "metadata": {},
   "source": [
    "STEP 3:\n",
    "$$b \\coloneqq a_2 + h_2d $$\n",
    "$$D \\coloneqq (b^2 - 4f(p_2)d)^{\\frac12}.$$\n",
    "(Observação: a aritmética complexa pode ser necessária.)"
   ]
  },
  {
   "cell_type": "markdown",
   "metadata": {},
   "source": [
    "STEP 4:\n",
    "\n",
    "IF $|b-D|<|b+D|$, THEN $E \\coloneqq b+D\\\\$\n",
    "ELSE $E \\coloneqq b-D;\\\\$"
   ]
  },
  {
   "cell_type": "markdown",
   "metadata": {},
   "source": [
    "STEP 5:\n",
    "    $$h \\coloneqq -2\\dfrac{f(p_2)}{E}$$\n",
    "    $$p \\coloneqq p_2 + h$$"
   ]
  },
  {
   "cell_type": "markdown",
   "metadata": {},
   "source": [
    "STEP 6:\n",
    "\n",
    "IF $p_0 = p$, THEN OUTPUT(p);$\\\\$ \n",
    "STOP."
   ]
  },
  {
   "cell_type": "markdown",
   "metadata": {},
   "source": [
    "STEP 7:\n",
    "\n",
    "$$p_0 = p_1;$$\n",
    "$$p_1 = p_2$$\n",
    "$$p_2 = p;$$\n",
    "$$h_1 \\coloneqq p_1 - p_0$$\n",
    "$$h_2 \\coloneqq p_2 - p_1$$\n",
    "$$a_1 \\coloneqq \\dfrac{(f(p_1)-f(p_0))}{h_1}$$\n",
    "$$a_2 \\coloneqq \\dfrac{(f(p_2)-f(p_1))}{h_2}$$\n",
    "$$d \\coloneqq (a_2 - a_1)(h_2 + h_1)$$\n",
    "$$i \\coloneqq i + 1 $$ "
   ]
  },
  {
   "cell_type": "markdown",
   "metadata": {},
   "source": [
    "STEP 8:\n",
    "\n",
    "OUTPUT(\"O método falhou após $N$ iterações.\")$\\\\$\n",
    "STOP"
   ]
  },
  {
   "cell_type": "markdown",
   "metadata": {},
   "source": []
  }
 ],
 "metadata": {
  "kernelspec": {
   "display_name": "Julia 1.10.2",
   "language": "julia",
   "name": "julia-1.10"
  },
  "language_info": {
   "file_extension": ".jl",
   "mimetype": "application/julia",
   "name": "julia",
   "version": "1.10.2"
  }
 },
 "nbformat": 4,
 "nbformat_minor": 2
}
