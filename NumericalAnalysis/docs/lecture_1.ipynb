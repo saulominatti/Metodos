{
 "cells": [
  {
   "cell_type": "markdown",
   "metadata": {},
   "source": [
    "# Lecture 1\n",
    "\n",
    "\n",
    "Welcome to the first lecture! \n",
    "\n",
    "Today, we will have a Julia introduction, covering the basics about project structure and tests. Furhtermore, we have hands-on tasks about Round-off Errors & Computer Arithmetic."
   ]
  },
  {
   "cell_type": "markdown",
   "metadata": {},
   "source": [
    "# References"
   ]
  },
  {
   "cell_type": "markdown",
   "metadata": {},
   "source": [
    "- [Creating a New Project](https://www.matecdev.com/posts/julia-create-project.html), by Martin D. Maas.\n",
    "\n",
    "-  Examples involving **Round-off Erros & Computer Arithmetic**  were drawn from the chapter 1.2 of the book [Numerical Analysis, by Richard L. Burden, J. Douglas Faires and Annette M. Burden](https://www.amazon.com/Numerical-Analysis-Richard-L-Burden/dp/1305253663). "
   ]
  },
  {
   "cell_type": "markdown",
   "metadata": {},
   "source": [
    "# Structure your project, avoid a mess!"
   ]
  },
  {
   "cell_type": "markdown",
   "metadata": {},
   "source": [
    "Enter the pkg mode and them type \"generate NumericalAnalysis\"\n",
    "\n",
    "$\\hspace{0.25cm}$ <font color=\"#2196F3\"> pkg> </font>   generate NumericalAnalysis\n",
    "\n",
    "Then, activate your envirorment:\n",
    "\n",
    "$\\hspace{0.25cm}$ <font color=\"#2196F3\"> pkg> </font>   activate ./NumericalAnalysis\n",
    "\n",
    "Now, add the \"Test\" package\n",
    "\n",
    "$\\hspace{0.25cm}$ <font color=\"#2196F3\"> pkg> </font>  add Test\n",
    "\n",
    "Check the folder structure: <font color=\"red\"> Manifest.toml </font> and <font color=\"red\"> Project.toml </font> were generated.\n",
    "\n",
    "\n",
    "We will also use the \"JuliaFormatter\" in order to format / organize our code.\n",
    "\n",
    "$\\hspace{0.25cm}$ <font color=\"#2196F3\"> pkg> </font>  add JuliaFormatter\n",
    "\n",
    "**Note:** Automated tests are important to verify if the code is running properly, and, most important, increases the safety of further changes in the code."
   ]
  },
  {
   "cell_type": "markdown",
   "metadata": {},
   "source": [
    "# About the folder structure"
   ]
  },
  {
   "cell_type": "markdown",
   "metadata": {},
   "source": [
    "The project is structured as follows:\n",
    "\n",
    "\n",
    "$\\hookrightarrow$ docs $\\newline$\n",
    "$\\hookrightarrow$ src $\\newline$\n",
    "$\\hspace{0.5cm}$  $\\hookrightarrow$ ErrorAnalysis $\\newline$\n",
    "$\\hspace{1cm}$  $\\hookrightarrow$ ErrorAnalysis.jl <font color=\"red\"> (file with same name as folder, containing all includes) </font> $\\newline$ \n",
    "$\\hspace{1cm}$  $\\hookrightarrow$ RoundArithmetics.jl $\\newline$\n",
    "$\\hspace{1cm}$  $\\hookrightarrow$ RoundOffErrors.jl $\\newline$\n",
    "$\\hspace{0.5cm}$  $\\hookrightarrow$ ... $\\newline$\n",
    "$\\hookrightarrow$ test $\\newline$\n",
    "$\\hspace{0.5cm}$ $\\hookrightarrow$ src $\\newline$\n",
    "$\\hspace{1cm}$ $\\hookrightarrow$ ErrorAnalysis $\\newline$\n",
    "\n",
    "- docs contains everything related to \"documentation\"\n",
    "- src contains the essence of the project, it is the main source code\n",
    "- test inclues all the test cases for the project\n",
    "\n",
    "More insights related to the \"file with same name as folder\" in the lecture. For now, assume that this is just a convetion adopted for this particular project.\n"
   ]
  },
  {
   "cell_type": "markdown",
   "metadata": {},
   "source": [
    "# Exercises\n",
    "\n",
    "Perform the exercises 1-6. After that, upload the following files:\n",
    "\n",
    "- RoundOffErrors.jl\n",
    "- RoundArithmetics.jl\n",
    "- Another \"julia file\" with the code and answers of exercises 3-6."
   ]
  },
  {
   "cell_type": "markdown",
   "metadata": {},
   "source": [
    "## Exercise 1"
   ]
  },
  {
   "cell_type": "markdown",
   "metadata": {},
   "source": [
    "Go to the file src/ErrorAnalysis/RoundArithmetics.jl and implement the following functions:\n",
    "\n",
    "- round_sum\n",
    "- round_mul\n",
    "- trunc_sum\n",
    "- trunc_mul"
   ]
  },
  {
   "cell_type": "markdown",
   "metadata": {},
   "source": [
    "## Exercise 2"
   ]
  },
  {
   "cell_type": "markdown",
   "metadata": {},
   "source": [
    "Go to the file src/ErrorAnalysis/RoundArithmetics.jl and implement the following functions:\n",
    "\n",
    "- absolute_error\n",
    "- relative_error\n",
    "- approximated_value_interval_given_relative_error"
   ]
  },
  {
   "cell_type": "markdown",
   "metadata": {},
   "source": [
    "## Exercise 3"
   ]
  },
  {
   "cell_type": "markdown",
   "metadata": {},
   "source": [
    "Compute the absolute error in the following approximations\n",
    "\n",
    "a) $x = π$ and $x^{*} = 22 / 7$ $\\newline$\n",
    "b) $x = π$ and $x^{*} = 3.1415$ $\\newline$"
   ]
  },
  {
   "cell_type": "markdown",
   "metadata": {},
   "source": [
    "## Exercise 4"
   ]
  },
  {
   "cell_type": "markdown",
   "metadata": {},
   "source": [
    "Compute the relative error using the stirling approximation, $n! \\approx \\sqrt{2 \\pi n}(n / e)^n$\n",
    "\n",
    "a) 7!  $\\newline$\n",
    "b) 20!"
   ]
  },
  {
   "cell_type": "markdown",
   "metadata": {},
   "source": [
    "## Exercise 5"
   ]
  },
  {
   "cell_type": "markdown",
   "metadata": {},
   "source": [
    "Find the largest interval in which $x^{*}$ must lie to approximate $x$ with relative error at most $\\tau$"
   ]
  },
  {
   "cell_type": "markdown",
   "metadata": {},
   "source": [
    "a) $x = 10, \\, \\tau = 10^{-3}$ $\\newline$\n",
    "b) $x = 100, \\, \\tau = 10^{-3}$ $\\newline$\n",
    "c) $x = -50, \\, \\tau = 10^{-3}$ $\\newline$\n",
    "d) $x = 10, \\, \\tau = 10^{-4}$ $\\newline$\n",
    "e) $x = 100, \\, \\tau = 10^{-4}$ $\\newline$\n",
    "f) $x = -50, \\, \\tau = 10^{-4}.$"
   ]
  },
  {
   "cell_type": "markdown",
   "metadata": {},
   "source": [
    "## Exercise 6"
   ]
  },
  {
   "cell_type": "markdown",
   "metadata": {},
   "source": [
    "Consider the expression $x = \\displaystyle \\frac{13/14 - 6/7}{2e - 5.4}$, then approximate $x$ using Finite Arithmetics (with chopp and round). Calculate the absolute and the relative erros in both cases."
   ]
  },
  {
   "cell_type": "markdown",
   "metadata": {},
   "source": []
  }
 ],
 "metadata": {
  "kernelspec": {
   "display_name": "Julia 1.9.1",
   "language": "julia",
   "name": "julia-1.9"
  },
  "language_info": {
   "file_extension": ".jl",
   "mimetype": "application/julia",
   "name": "julia",
   "version": "1.9.1"
  }
 },
 "nbformat": 4,
 "nbformat_minor": 2
}
